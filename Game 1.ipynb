{
    "cells": [
        {
            "cell_type": "markdown",
            "metadata": {},
            "source": "## GAME CHOICE"
        },
        {
            "cell_type": "code",
            "execution_count": 1,
            "metadata": {},
            "outputs": [],
            "source": "game_list = [0,1,2]"
        },
        {
            "cell_type": "code",
            "execution_count": 2,
            "metadata": {},
            "outputs": [],
            "source": "def display_game(game_list):\n    print(\"Here is a current list: \")\n    print(game_list)"
        },
        {
            "cell_type": "code",
            "execution_count": 3,
            "metadata": {},
            "outputs": [
                {
                    "name": "stdout",
                    "output_type": "stream",
                    "text": "Here is a current list: \n[0, 1, 2]\n"
                }
            ],
            "source": "display_game(game_list)"
        },
        {
            "cell_type": "code",
            "execution_count": 4,
            "metadata": {},
            "outputs": [],
            "source": "def position_check():\n    \n    choice = 'WRONG'\n    \n    while choice not in ['0','1','2']:\n        \n        choice = input('Pick a position to replace (0,1,2): ')\n        \n        if choice not in ['0','1','2']:\n            \n            print('Sorry but you did not choose a valid position. Try again.')\n            \n    return int(choice)"
        },
        {
            "cell_type": "code",
            "execution_count": 5,
            "metadata": {},
            "outputs": [],
            "source": "def replacement_choice(game_list,position):\n    \n    user_placement = input(\"Type a string to place at the position: \")\n    \n    game_list[position] = user_placement\n    \n    return game_list\n    "
        },
        {
            "cell_type": "code",
            "execution_count": 6,
            "metadata": {},
            "outputs": [],
            "source": "def gameon_choice():\n    \n    choice = \"WRONG\"\n    \n    while choice not in ['Y','N']:\n        \n        choice = input('Keep playing? Choose Y or NO')\n        \n        if choice not in ['Y','N']:\n            \n            print(\"I don't understand. Please try again. Choose Y or N.\")\n            \n    if choice == 'Y':\n        return True\n    else: \n        return False\n    "
        },
        {
            "cell_type": "code",
            "execution_count": 8,
            "metadata": {},
            "outputs": [
                {
                    "name": "stdout",
                    "output_type": "stream",
                    "text": "Here is a current list: \n[0, 1, 2]\nPick a position to replace (0,1,2): 3\nSorry but you did not choose a valid position. Try again.\nPick a position to replace (0,1,2): go\nSorry but you did not choose a valid position. Try again.\nPick a position to replace (0,1,2): 1\nType a string to place at the position: CAT\nHere is a current list: \n[0, 'CAT', 2]\nKeep playing? Choose Y or NOk\nI don't understand. Please try again. Choose Y or N.\nKeep playing? Choose Y or NOY\nHere is a current list: \n[0, 'CAT', 2]\nPick a position to replace (0,1,2): 2\nType a string to place at the position: TEST\nHere is a current list: \n[0, 'CAT', 'TEST']\nKeep playing? Choose Y or NON\n"
                }
            ],
            "source": "game_on = True\n\ngame_list = [0,1,2]\n\n\nwhile game_on:\n    \n    display_game(game_list)\n    \n    position = position_check()\n    \n    game_list = replacement_choice(game_list,position)\n    \n    display_game(game_list)\n    \n    game_on = gameon_choice()\n    \n    \n    \n    "
        },
        {
            "cell_type": "code",
            "execution_count": null,
            "metadata": {},
            "outputs": [],
            "source": ""
        }
    ],
    "metadata": {
        "kernelspec": {
            "display_name": "Python 3.6",
            "language": "python",
            "name": "python3"
        },
        "language_info": {
            "codemirror_mode": {
                "name": "ipython",
                "version": 3
            },
            "file_extension": ".py",
            "mimetype": "text/x-python",
            "name": "python",
            "nbconvert_exporter": "python",
            "pygments_lexer": "ipython3",
            "version": "3.6.9"
        }
    },
    "nbformat": 4,
    "nbformat_minor": 1
}